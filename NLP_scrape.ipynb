{
  "nbformat": 4,
  "nbformat_minor": 0,
  "metadata": {
    "colab": {
      "provenance": [],
      "authorship_tag": "ABX9TyMwSEIZBXIcfCyc6ao9woIH",
      "include_colab_link": true
    },
    "kernelspec": {
      "name": "python3",
      "display_name": "Python 3"
    },
    "language_info": {
      "name": "python"
    }
  },
  "cells": [
    {
      "cell_type": "markdown",
      "metadata": {
        "id": "view-in-github",
        "colab_type": "text"
      },
      "source": [
        "<a href=\"https://colab.research.google.com/github/MENDEMUKESH/NLP_research-paper-recommendation/blob/main/NLP_scrape.ipynb\" target=\"_parent\"><img src=\"https://colab.research.google.com/assets/colab-badge.svg\" alt=\"Open In Colab\"/></a>"
      ]
    },
    {
      "cell_type": "code",
      "execution_count": 2,
      "metadata": {
        "colab": {
          "base_uri": "https://localhost:8080/"
        },
        "id": "xJCaODOCWI0Q",
        "outputId": "36f0578f-a979-4b85-9b4c-f83d11a3810d"
      },
      "outputs": [
        {
          "output_type": "stream",
          "name": "stdout",
          "text": [
            "Collecting arxiv\n",
            "  Downloading arxiv-2.1.3-py3-none-any.whl.metadata (6.1 kB)\n",
            "Collecting feedparser~=6.0.10 (from arxiv)\n",
            "  Downloading feedparser-6.0.11-py3-none-any.whl.metadata (2.4 kB)\n",
            "Requirement already satisfied: requests~=2.32.0 in /usr/local/lib/python3.11/dist-packages (from arxiv) (2.32.3)\n",
            "Collecting sgmllib3k (from feedparser~=6.0.10->arxiv)\n",
            "  Downloading sgmllib3k-1.0.0.tar.gz (5.8 kB)\n",
            "  Preparing metadata (setup.py) ... \u001b[?25l\u001b[?25hdone\n",
            "Requirement already satisfied: charset-normalizer<4,>=2 in /usr/local/lib/python3.11/dist-packages (from requests~=2.32.0->arxiv) (3.4.1)\n",
            "Requirement already satisfied: idna<4,>=2.5 in /usr/local/lib/python3.11/dist-packages (from requests~=2.32.0->arxiv) (3.10)\n",
            "Requirement already satisfied: urllib3<3,>=1.21.1 in /usr/local/lib/python3.11/dist-packages (from requests~=2.32.0->arxiv) (2.3.0)\n",
            "Requirement already satisfied: certifi>=2017.4.17 in /usr/local/lib/python3.11/dist-packages (from requests~=2.32.0->arxiv) (2025.1.31)\n",
            "Downloading arxiv-2.1.3-py3-none-any.whl (11 kB)\n",
            "Downloading feedparser-6.0.11-py3-none-any.whl (81 kB)\n",
            "\u001b[2K   \u001b[90m━━━━━━━━━━━━━━━━━━━━━━━━━━━━━━━━━━━━━━━━\u001b[0m \u001b[32m81.3/81.3 kB\u001b[0m \u001b[31m1.8 MB/s\u001b[0m eta \u001b[36m0:00:00\u001b[0m\n",
            "\u001b[?25hBuilding wheels for collected packages: sgmllib3k\n",
            "  Building wheel for sgmllib3k (setup.py) ... \u001b[?25l\u001b[?25hdone\n",
            "  Created wheel for sgmllib3k: filename=sgmllib3k-1.0.0-py3-none-any.whl size=6047 sha256=0ec87a252369a53f970b8412260d2991f47574901a1eb93081e22c4aeb1a6f82\n",
            "  Stored in directory: /root/.cache/pip/wheels/3b/25/2a/105d6a15df6914f4d15047691c6c28f9052cc1173e40285d03\n",
            "Successfully built sgmllib3k\n",
            "Installing collected packages: sgmllib3k, feedparser, arxiv\n",
            "Successfully installed arxiv-2.1.3 feedparser-6.0.11 sgmllib3k-1.0.0\n"
          ]
        }
      ],
      "source": [
        "!pip install arxiv\n"
      ]
    },
    {
      "cell_type": "code",
      "source": [
        "import arxiv"
      ],
      "metadata": {
        "id": "rMtjgpunWnUb"
      },
      "execution_count": 3,
      "outputs": []
    },
    {
      "cell_type": "code",
      "source": [
        "import pandas as pd\n",
        "from tqdm import tqdm\n",
        "from pathlib import Path"
      ],
      "metadata": {
        "id": "rlGNQy67WYuI"
      },
      "execution_count": 4,
      "outputs": []
    },
    {
      "cell_type": "code",
      "source": [
        "PATH_DATA_BASE = Path.cwd().parent / \"data\""
      ],
      "metadata": {
        "id": "UkahYFBlW0UW"
      },
      "execution_count": 5,
      "outputs": []
    },
    {
      "cell_type": "code",
      "source": [
        "query_keywords = [\n",
        "    \"\\\"image segmentation\\\"\",\n",
        "    \"\\\"self-supervised learning\\\"\",\n",
        "    \"\\\"representation learning\\\"\",\n",
        "    \"\\\"image generation\\\"\",\n",
        "    \"\\\"object detection\\\"\",\n",
        "    \"\\\"transfer learning\\\"\",\n",
        "    \"\\\"transformers\\\"\",\n",
        "    \"\\\"adversarial training\",\n",
        "    \"\\\"generative adversarial networks\\\"\",\n",
        "    \"\\\"model compressions\\\"\",\n",
        "    \"\\\"image segmentation\\\"\",\n",
        "    \"\\\"few-shot learning\\\"\",\n",
        "    \"\\\"natural language\\\"\",\n",
        "    \"\\\"graph\\\"\",\n",
        "    \"\\\"colorization\\\"\",\n",
        "    \"\\\"depth estimation\\\"\",\n",
        "    \"\\\"point cloud\\\"\",\n",
        "    \"\\\"structured data\\\"\",\n",
        "    \"\\\"optical flow\\\"\",\n",
        "    \"\\\"reinforcement learning\\\"\",\n",
        "    \"\\\"super resolution\\\"\",\n",
        "    \"\\\"attention\\\"\",\n",
        "    \"\\\"tabular\\\"\",\n",
        "    \"\\\"unsupervised learning\\\"\",\n",
        "    \"\\\"semi-supervised learning\\\"\",\n",
        "    \"\\\"explainable\\\"\",\n",
        "    \"\\\"radiance field\\\"\",\n",
        "    \"\\\"decision tree\\\"\",\n",
        "    \"\\\"time series\\\"\",\n",
        "    \"\\\"molecule\\\"\",\n",
        "    \"\\\"large language models\\\"\",\n",
        "    \"\\\"llms\\\"\",\n",
        "    \"\\\"language models\\\"\",\n",
        "    \"\\\"image classification\\\"\",\n",
        "    \"\\\"document image classification\\\"\",\n",
        "    \"\\\"encoder\\\"\",\n",
        "    \"\\\"decoder\\\"\",\n",
        "    \"\\\"multimodal\\\"\",\n",
        "    \"\\\"multimodal deep learning\\\"\",\n",
        "]"
      ],
      "metadata": {
        "id": "NcObz3yWW6pW"
      },
      "execution_count": 7,
      "outputs": []
    },
    {
      "cell_type": "code",
      "source": [],
      "metadata": {
        "id": "CJCBo5f8W8ve"
      },
      "execution_count": null,
      "outputs": []
    }
  ]
}